{
 "cells": [
  {
   "cell_type": "markdown",
   "source": [
    "# Pakistan Super League 2016-2025 Data Analysis"
   ],
   "metadata": {
    "collapsed": false
   },
   "id": "26ea3d5c9b8d652d"
  },
  {
   "cell_type": "markdown",
   "source": [
    "## Imports"
   ],
   "metadata": {
    "collapsed": false
   },
   "id": "4ec49cd287a3ab1c"
  },
  {
   "cell_type": "code",
   "outputs": [],
   "source": [
    "from utilities import read_kaggle_dataset"
   ],
   "metadata": {
    "collapsed": false,
    "ExecuteTime": {
     "end_time": "2025-10-19T20:20:41.864297100Z",
     "start_time": "2025-10-19T20:20:41.849289400Z"
    }
   },
   "id": "aaaf7483f25d0c44",
   "execution_count": 4
  },
  {
   "cell_type": "markdown",
   "source": [
    "\n",
    "## Access Dataset\n"
   ],
   "metadata": {
    "collapsed": false
   },
   "id": "f59d194d56c880ec"
  },
  {
   "cell_type": "code",
   "outputs": [
    {
     "name": "stdout",
     "output_type": "stream",
     "text": [
      "Downloaded and read C:\\Users\\muzi1\\PycharmProjects\\PSL Complete Data Analysis\\data\\PSL Complete Dataset (2016-2025).csv\n"
     ]
    }
   ],
   "source": [
    "df = read_kaggle_dataset(\"zeeshanahmad124586/psl-complete-dataset-2016-2025\")"
   ],
   "metadata": {
    "collapsed": false,
    "ExecuteTime": {
     "end_time": "2025-10-19T20:20:42.797251Z",
     "start_time": "2025-10-19T20:20:41.859292700Z"
    }
   },
   "id": "8df51409f93b890a",
   "execution_count": 5
  },
  {
   "cell_type": "markdown",
   "source": [
    "## King's Toss"
   ],
   "metadata": {
    "collapsed": false
   },
   "id": "b93c0f3dbd175963"
  },
  {
   "cell_type": "code",
   "outputs": [
    {
     "name": "stdout",
     "output_type": "stream",
     "text": [
      "<class 'pandas.core.frame.DataFrame'>\n",
      "RangeIndex: 73784 entries, 0 to 73783\n",
      "Data columns (total 27 columns):\n",
      " #   Column            Non-Null Count  Dtype \n",
      "---  ------            --------------  ----- \n",
      " 0   id                73784 non-null  int64 \n",
      " 1   match_id          73784 non-null  int64 \n",
      " 2   date              73784 non-null  object\n",
      " 3   season            73784 non-null  int64 \n",
      " 4   venue             73784 non-null  object\n",
      " 5   inning            73784 non-null  int64 \n",
      " 6   batting_team      73784 non-null  object\n",
      " 7   bowling_team      73784 non-null  object\n",
      " 8   over              73784 non-null  int64 \n",
      " 9   ball              73784 non-null  int64 \n",
      " 10  batter            73784 non-null  object\n",
      " 11  bowler            73784 non-null  object\n",
      " 12  non_striker       73784 non-null  object\n",
      " 13  batsman_runs      73784 non-null  int64 \n",
      " 14  extra_runs        73784 non-null  int64 \n",
      " 15  total_runs        73784 non-null  int64 \n",
      " 16  extras_type       4012 non-null   object\n",
      " 17  is_wicket         73784 non-null  bool  \n",
      " 18  player_dismissed  3966 non-null   object\n",
      " 19  dismissal_kind    3966 non-null   object\n",
      " 20  fielder           2636 non-null   object\n",
      " 21  winner            73784 non-null  object\n",
      " 22  win_by            73784 non-null  object\n",
      " 23  match_type        73784 non-null  object\n",
      " 24  player_of_match   73048 non-null  object\n",
      " 25  umpire_1          73784 non-null  object\n",
      " 26  umpire_2          73784 non-null  object\n",
      "dtypes: bool(1), int64(9), object(17)\n",
      "memory usage: 14.7+ MB\n"
     ]
    }
   ],
   "source": [
    "df.info()"
   ],
   "metadata": {
    "collapsed": false,
    "ExecuteTime": {
     "end_time": "2025-10-19T20:25:03.543136700Z",
     "start_time": "2025-10-19T20:25:03.500581Z"
    }
   },
   "id": "30515fdc6e3f9550",
   "execution_count": 7
  },
  {
   "cell_type": "code",
   "outputs": [
    {
     "data": {
      "text/plain": "   id  match_id        date  season                                venue  \\\n0   1   1075986  2017-02-09    2017  Dubai International Cricket Stadium   \n1   2   1075986  2017-02-09    2017  Dubai International Cricket Stadium   \n2   3   1075986  2017-02-09    2017  Dubai International Cricket Stadium   \n3   4   1075986  2017-02-09    2017  Dubai International Cricket Stadium   \n4   5   1075986  2017-02-09    2017  Dubai International Cricket Stadium   \n\n   inning    batting_team      bowling_team  over  ball  ... is_wicket  \\\n0       1  Peshawar Zalmi  Islamabad United     1     1  ...      True   \n1       1  Peshawar Zalmi  Islamabad United     1     2  ...     False   \n2       1  Peshawar Zalmi  Islamabad United     1     3  ...     False   \n3       1  Peshawar Zalmi  Islamabad United     1     4  ...     False   \n4       1  Peshawar Zalmi  Islamabad United     1     5  ...     False   \n\n  player_dismissed dismissal_kind        fielder            winner     win_by  \\\n0  Mohammad Hafeez         caught  Sharjeel Khan  Islamabad United  wickets 7   \n1              NaN            NaN            NaN  Islamabad United  wickets 7   \n2              NaN            NaN            NaN  Islamabad United  wickets 7   \n3              NaN            NaN            NaN  Islamabad United  wickets 7   \n4              NaN            NaN            NaN  Islamabad United  wickets 7   \n\n  match_type  player_of_match    umpire_1     umpire_2  \n0    regular        BJ Haddin  Ahsan Raza  Shozab Raza  \n1    regular        BJ Haddin  Ahsan Raza  Shozab Raza  \n2    regular        BJ Haddin  Ahsan Raza  Shozab Raza  \n3    regular        BJ Haddin  Ahsan Raza  Shozab Raza  \n4    regular        BJ Haddin  Ahsan Raza  Shozab Raza  \n\n[5 rows x 27 columns]",
      "text/html": "<div>\n<style scoped>\n    .dataframe tbody tr th:only-of-type {\n        vertical-align: middle;\n    }\n\n    .dataframe tbody tr th {\n        vertical-align: top;\n    }\n\n    .dataframe thead th {\n        text-align: right;\n    }\n</style>\n<table border=\"1\" class=\"dataframe\">\n  <thead>\n    <tr style=\"text-align: right;\">\n      <th></th>\n      <th>id</th>\n      <th>match_id</th>\n      <th>date</th>\n      <th>season</th>\n      <th>venue</th>\n      <th>inning</th>\n      <th>batting_team</th>\n      <th>bowling_team</th>\n      <th>over</th>\n      <th>ball</th>\n      <th>...</th>\n      <th>is_wicket</th>\n      <th>player_dismissed</th>\n      <th>dismissal_kind</th>\n      <th>fielder</th>\n      <th>winner</th>\n      <th>win_by</th>\n      <th>match_type</th>\n      <th>player_of_match</th>\n      <th>umpire_1</th>\n      <th>umpire_2</th>\n    </tr>\n  </thead>\n  <tbody>\n    <tr>\n      <th>0</th>\n      <td>1</td>\n      <td>1075986</td>\n      <td>2017-02-09</td>\n      <td>2017</td>\n      <td>Dubai International Cricket Stadium</td>\n      <td>1</td>\n      <td>Peshawar Zalmi</td>\n      <td>Islamabad United</td>\n      <td>1</td>\n      <td>1</td>\n      <td>...</td>\n      <td>True</td>\n      <td>Mohammad Hafeez</td>\n      <td>caught</td>\n      <td>Sharjeel Khan</td>\n      <td>Islamabad United</td>\n      <td>wickets 7</td>\n      <td>regular</td>\n      <td>BJ Haddin</td>\n      <td>Ahsan Raza</td>\n      <td>Shozab Raza</td>\n    </tr>\n    <tr>\n      <th>1</th>\n      <td>2</td>\n      <td>1075986</td>\n      <td>2017-02-09</td>\n      <td>2017</td>\n      <td>Dubai International Cricket Stadium</td>\n      <td>1</td>\n      <td>Peshawar Zalmi</td>\n      <td>Islamabad United</td>\n      <td>1</td>\n      <td>2</td>\n      <td>...</td>\n      <td>False</td>\n      <td>NaN</td>\n      <td>NaN</td>\n      <td>NaN</td>\n      <td>Islamabad United</td>\n      <td>wickets 7</td>\n      <td>regular</td>\n      <td>BJ Haddin</td>\n      <td>Ahsan Raza</td>\n      <td>Shozab Raza</td>\n    </tr>\n    <tr>\n      <th>2</th>\n      <td>3</td>\n      <td>1075986</td>\n      <td>2017-02-09</td>\n      <td>2017</td>\n      <td>Dubai International Cricket Stadium</td>\n      <td>1</td>\n      <td>Peshawar Zalmi</td>\n      <td>Islamabad United</td>\n      <td>1</td>\n      <td>3</td>\n      <td>...</td>\n      <td>False</td>\n      <td>NaN</td>\n      <td>NaN</td>\n      <td>NaN</td>\n      <td>Islamabad United</td>\n      <td>wickets 7</td>\n      <td>regular</td>\n      <td>BJ Haddin</td>\n      <td>Ahsan Raza</td>\n      <td>Shozab Raza</td>\n    </tr>\n    <tr>\n      <th>3</th>\n      <td>4</td>\n      <td>1075986</td>\n      <td>2017-02-09</td>\n      <td>2017</td>\n      <td>Dubai International Cricket Stadium</td>\n      <td>1</td>\n      <td>Peshawar Zalmi</td>\n      <td>Islamabad United</td>\n      <td>1</td>\n      <td>4</td>\n      <td>...</td>\n      <td>False</td>\n      <td>NaN</td>\n      <td>NaN</td>\n      <td>NaN</td>\n      <td>Islamabad United</td>\n      <td>wickets 7</td>\n      <td>regular</td>\n      <td>BJ Haddin</td>\n      <td>Ahsan Raza</td>\n      <td>Shozab Raza</td>\n    </tr>\n    <tr>\n      <th>4</th>\n      <td>5</td>\n      <td>1075986</td>\n      <td>2017-02-09</td>\n      <td>2017</td>\n      <td>Dubai International Cricket Stadium</td>\n      <td>1</td>\n      <td>Peshawar Zalmi</td>\n      <td>Islamabad United</td>\n      <td>1</td>\n      <td>5</td>\n      <td>...</td>\n      <td>False</td>\n      <td>NaN</td>\n      <td>NaN</td>\n      <td>NaN</td>\n      <td>Islamabad United</td>\n      <td>wickets 7</td>\n      <td>regular</td>\n      <td>BJ Haddin</td>\n      <td>Ahsan Raza</td>\n      <td>Shozab Raza</td>\n    </tr>\n  </tbody>\n</table>\n<p>5 rows × 27 columns</p>\n</div>"
     },
     "execution_count": 8,
     "metadata": {},
     "output_type": "execute_result"
    }
   ],
   "source": [
    "df.head()"
   ],
   "metadata": {
    "collapsed": false,
    "ExecuteTime": {
     "end_time": "2025-10-19T20:25:08.254005700Z",
     "start_time": "2025-10-19T20:25:08.194952100Z"
    }
   },
   "id": "4b3c4d5226a4a77a",
   "execution_count": 8
  }
 ],
 "metadata": {
  "kernelspec": {
   "display_name": "Python 3",
   "language": "python",
   "name": "python3"
  },
  "language_info": {
   "codemirror_mode": {
    "name": "ipython",
    "version": 2
   },
   "file_extension": ".py",
   "mimetype": "text/x-python",
   "name": "python",
   "nbconvert_exporter": "python",
   "pygments_lexer": "ipython2",
   "version": "2.7.6"
  }
 },
 "nbformat": 4,
 "nbformat_minor": 5
}
